{
 "cells": [
  {
   "cell_type": "code",
   "execution_count": 31,
   "id": "9ec64bf3",
   "metadata": {},
   "outputs": [
    {
     "name": "stdout",
     "output_type": "stream",
     "text": [
      "Looking in indexes: https://download.pytorch.org/whl/cu118\n",
      "Requirement already satisfied: torch in c:\\users\\dell\\appdata\\local\\programs\\python\\python38\\lib\\site-packages (2.0.1+cu118)\n",
      "Requirement already satisfied: torchvision in c:\\users\\dell\\appdata\\local\\programs\\python\\python38\\lib\\site-packages (0.15.2+cu118)\n",
      "Requirement already satisfied: torchaudio in c:\\users\\dell\\appdata\\local\\programs\\python\\python38\\lib\\site-packages (2.0.2+cu118)\n",
      "Requirement already satisfied: networkx in c:\\users\\dell\\appdata\\local\\programs\\python\\python38\\lib\\site-packages (from torch) (3.0)\n",
      "Requirement already satisfied: filelock in c:\\users\\dell\\appdata\\local\\programs\\python\\python38\\lib\\site-packages (from torch) (3.9.0)\n",
      "Requirement already satisfied: sympy in c:\\users\\dell\\appdata\\local\\programs\\python\\python38\\lib\\site-packages (from torch) (1.11.1)\n",
      "Requirement already satisfied: jinja2 in c:\\users\\dell\\appdata\\local\\programs\\python\\python38\\lib\\site-packages (from torch) (3.0.1)\n",
      "Requirement already satisfied: typing-extensions in c:\\users\\dell\\appdata\\local\\programs\\python\\python38\\lib\\site-packages (from torch) (4.4.0)\n",
      "Requirement already satisfied: numpy in c:\\users\\dell\\appdata\\local\\programs\\python\\python38\\lib\\site-packages (from torchvision) (1.20.3)\n",
      "Requirement already satisfied: pillow!=8.3.*,>=5.3.0 in c:\\users\\dell\\appdata\\local\\programs\\python\\python38\\lib\\site-packages (from torchvision) (8.2.0)\n",
      "Requirement already satisfied: requests in c:\\users\\dell\\appdata\\local\\programs\\python\\python38\\lib\\site-packages (from torchvision) (2.28.1)\n",
      "Requirement already satisfied: MarkupSafe>=2.0 in c:\\users\\dell\\appdata\\local\\programs\\python\\python38\\lib\\site-packages (from jinja2->torch) (2.0.1)\n",
      "Requirement already satisfied: urllib3<1.27,>=1.21.1 in c:\\users\\dell\\appdata\\local\\programs\\python\\python38\\lib\\site-packages (from requests->torchvision) (1.26.10)\n",
      "Requirement already satisfied: charset-normalizer<3,>=2 in c:\\users\\dell\\appdata\\local\\programs\\python\\python38\\lib\\site-packages (from requests->torchvision) (2.1.0)\n",
      "Requirement already satisfied: idna<4,>=2.5 in c:\\users\\dell\\appdata\\local\\programs\\python\\python38\\lib\\site-packages (from requests->torchvision) (3.3)\n",
      "Requirement already satisfied: certifi>=2017.4.17 in c:\\users\\dell\\appdata\\local\\programs\\python\\python38\\lib\\site-packages (from requests->torchvision) (2022.6.15)\n",
      "Requirement already satisfied: mpmath>=0.19 in c:\\users\\dell\\appdata\\local\\programs\\python\\python38\\lib\\site-packages (from sympy->torch) (1.2.1)\n",
      "\n",
      "[notice] A new release of pip available: 22.1.2 -> 23.1.2\n",
      "[notice] To update, run: python.exe -m pip install --upgrade pip\n"
     ]
    }
   ],
   "source": [
    "!pip3 install torch torchvision torchaudio --index-url https://download.pytorch.org/whl/cu118\n",
    "\n",
    "\n"
   ]
  },
  {
   "cell_type": "code",
   "execution_count": 33,
   "id": "d3359adf",
   "metadata": {},
   "outputs": [
    {
     "name": "stdout",
     "output_type": "stream",
     "text": [
      "Collecting transformers\n",
      "  Downloading transformers-4.30.2-py3-none-any.whl (7.2 MB)\n",
      "     ---------------------------------------- 7.2/7.2 MB 891.2 kB/s eta 0:00:00\n",
      "Collecting safetensors>=0.3.1\n",
      "  Downloading safetensors-0.3.1-cp38-cp38-win_amd64.whl (263 kB)\n",
      "     -------------------------------------- 263.9/263.9 kB 1.0 MB/s eta 0:00:00\n",
      "Collecting tqdm>=4.27\n",
      "  Downloading tqdm-4.65.0-py3-none-any.whl (77 kB)\n",
      "     ---------------------------------------- 77.1/77.1 kB 1.4 MB/s eta 0:00:00\n",
      "Requirement already satisfied: requests in c:\\users\\dell\\appdata\\local\\programs\\python\\python38\\lib\\site-packages (from transformers) (2.28.1)\n",
      "Requirement already satisfied: filelock in c:\\users\\dell\\appdata\\local\\programs\\python\\python38\\lib\\site-packages (from transformers) (3.9.0)\n",
      "Requirement already satisfied: numpy>=1.17 in c:\\users\\dell\\appdata\\local\\programs\\python\\python38\\lib\\site-packages (from transformers) (1.20.3)\n",
      "Collecting huggingface-hub<1.0,>=0.14.1\n",
      "  Downloading huggingface_hub-0.15.1-py3-none-any.whl (236 kB)\n",
      "     -------------------------------------- 236.8/236.8 kB 1.1 MB/s eta 0:00:00\n",
      "Collecting regex!=2019.12.17\n",
      "  Downloading regex-2023.6.3-cp38-cp38-win_amd64.whl (268 kB)\n",
      "     ------------------------------------ 268.1/268.1 kB 412.5 kB/s eta 0:00:00\n",
      "Collecting tokenizers!=0.11.3,<0.14,>=0.11.1\n",
      "  Downloading tokenizers-0.13.3-cp38-cp38-win_amd64.whl (3.5 MB)\n",
      "     ---------------------------------------- 3.5/3.5 MB 1.0 MB/s eta 0:00:00\n",
      "Requirement already satisfied: packaging>=20.0 in c:\\users\\dell\\appdata\\local\\programs\\python\\python38\\lib\\site-packages (from transformers) (20.9)\n",
      "Collecting pyyaml>=5.1\n",
      "  Downloading PyYAML-6.0-cp38-cp38-win_amd64.whl (155 kB)\n",
      "     -------------------------------------- 155.4/155.4 kB 1.0 MB/s eta 0:00:00\n",
      "Collecting fsspec\n",
      "  Downloading fsspec-2023.6.0-py3-none-any.whl (163 kB)\n",
      "     -------------------------------------- 163.8/163.8 kB 1.1 MB/s eta 0:00:00\n",
      "Requirement already satisfied: typing-extensions>=3.7.4.3 in c:\\users\\dell\\appdata\\local\\programs\\python\\python38\\lib\\site-packages (from huggingface-hub<1.0,>=0.14.1->transformers) (4.4.0)\n",
      "Requirement already satisfied: pyparsing>=2.0.2 in c:\\users\\dell\\appdata\\local\\programs\\python\\python38\\lib\\site-packages (from packaging>=20.0->transformers) (2.4.7)\n",
      "Requirement already satisfied: colorama in c:\\users\\dell\\appdata\\local\\programs\\python\\python38\\lib\\site-packages (from tqdm>=4.27->transformers) (0.4.4)\n",
      "Requirement already satisfied: urllib3<1.27,>=1.21.1 in c:\\users\\dell\\appdata\\local\\programs\\python\\python38\\lib\\site-packages (from requests->transformers) (1.26.10)\n",
      "Requirement already satisfied: charset-normalizer<3,>=2 in c:\\users\\dell\\appdata\\local\\programs\\python\\python38\\lib\\site-packages (from requests->transformers) (2.1.0)\n",
      "Requirement already satisfied: certifi>=2017.4.17 in c:\\users\\dell\\appdata\\local\\programs\\python\\python38\\lib\\site-packages (from requests->transformers) (2022.6.15)\n",
      "Requirement already satisfied: idna<4,>=2.5 in c:\\users\\dell\\appdata\\local\\programs\\python\\python38\\lib\\site-packages (from requests->transformers) (3.3)\n",
      "Installing collected packages: tokenizers, safetensors, tqdm, regex, pyyaml, fsspec, huggingface-hub, transformers\n",
      "Successfully installed fsspec-2023.6.0 huggingface-hub-0.15.1 pyyaml-6.0 regex-2023.6.3 safetensors-0.3.1 tokenizers-0.13.3 tqdm-4.65.0 transformers-4.30.2\n",
      "\n",
      "[notice] A new release of pip available: 22.1.2 -> 23.1.2\n",
      "[notice] To update, run: python.exe -m pip install --upgrade pip\n"
     ]
    }
   ],
   "source": [
    "!pip install transformers"
   ]
  },
  {
   "cell_type": "code",
   "execution_count": 32,
   "id": "d74888c4",
   "metadata": {},
   "outputs": [
    {
     "name": "stdout",
     "output_type": "stream",
     "text": [
      "Requirement already satisfied: tweepy in c:\\users\\dell\\appdata\\local\\programs\\python\\python38\\lib\\site-packages (4.14.0)\n",
      "Requirement already satisfied: requests-oauthlib<2,>=1.2.0 in c:\\users\\dell\\appdata\\local\\programs\\python\\python38\\lib\\site-packages (from tweepy) (1.3.1)\n",
      "Requirement already satisfied: oauthlib<4,>=3.2.0 in c:\\users\\dell\\appdata\\local\\programs\\python\\python38\\lib\\site-packages (from tweepy) (3.2.2)\n",
      "Requirement already satisfied: requests<3,>=2.27.0 in c:\\users\\dell\\appdata\\local\\programs\\python\\python38\\lib\\site-packages (from tweepy) (2.28.1)\n",
      "Requirement already satisfied: charset-normalizer<3,>=2 in c:\\users\\dell\\appdata\\local\\programs\\python\\python38\\lib\\site-packages (from requests<3,>=2.27.0->tweepy) (2.1.0)\n",
      "Requirement already satisfied: urllib3<1.27,>=1.21.1 in c:\\users\\dell\\appdata\\local\\programs\\python\\python38\\lib\\site-packages (from requests<3,>=2.27.0->tweepy) (1.26.10)\n",
      "Requirement already satisfied: idna<4,>=2.5 in c:\\users\\dell\\appdata\\local\\programs\\python\\python38\\lib\\site-packages (from requests<3,>=2.27.0->tweepy) (3.3)\n",
      "Requirement already satisfied: certifi>=2017.4.17 in c:\\users\\dell\\appdata\\local\\programs\\python\\python38\\lib\\site-packages (from requests<3,>=2.27.0->tweepy) (2022.6.15)\n",
      "\n",
      "[notice] A new release of pip available: 22.1.2 -> 23.1.2\n",
      "[notice] To update, run: python.exe -m pip install --upgrade pip\n"
     ]
    }
   ],
   "source": [
    "!pip install tweepy"
   ]
  },
  {
   "cell_type": "code",
   "execution_count": 2,
   "id": "c9559bcd",
   "metadata": {},
   "outputs": [
    {
     "name": "stdout",
     "output_type": "stream",
     "text": [
      "Collecting snscrape\n",
      "  Downloading snscrape-0.7.0.20230622-py3-none-any.whl (74 kB)\n",
      "     -------------------------------------- 74.8/74.8 kB 413.9 kB/s eta 0:00:00\n",
      "Collecting beautifulsoup4\n",
      "  Downloading beautifulsoup4-4.12.2-py3-none-any.whl (142 kB)\n",
      "     ------------------------------------ 143.0/143.0 kB 446.9 kB/s eta 0:00:00\n",
      "Requirement already satisfied: filelock in c:\\users\\dell\\appdata\\local\\programs\\python\\python38\\lib\\site-packages (from snscrape) (3.9.0)\n",
      "Requirement already satisfied: requests[socks] in c:\\users\\dell\\appdata\\local\\programs\\python\\python38\\lib\\site-packages (from snscrape) (2.28.1)\n",
      "Collecting lxml\n",
      "  Downloading lxml-4.9.2-cp38-cp38-win_amd64.whl (3.9 MB)\n",
      "     ---------------------------------------- 3.9/3.9 MB 525.4 kB/s eta 0:00:00\n",
      "Requirement already satisfied: pytz in c:\\users\\dell\\appdata\\local\\programs\\python\\python38\\lib\\site-packages (from snscrape) (2021.1)\n",
      "Collecting soupsieve>1.2\n",
      "  Downloading soupsieve-2.4.1-py3-none-any.whl (36 kB)\n",
      "Requirement already satisfied: idna<4,>=2.5 in c:\\users\\dell\\appdata\\local\\programs\\python\\python38\\lib\\site-packages (from requests[socks]->snscrape) (3.3)\n",
      "Requirement already satisfied: charset-normalizer<3,>=2 in c:\\users\\dell\\appdata\\local\\programs\\python\\python38\\lib\\site-packages (from requests[socks]->snscrape) (2.1.0)\n",
      "Requirement already satisfied: certifi>=2017.4.17 in c:\\users\\dell\\appdata\\local\\programs\\python\\python38\\lib\\site-packages (from requests[socks]->snscrape) (2022.6.15)\n",
      "Requirement already satisfied: urllib3<1.27,>=1.21.1 in c:\\users\\dell\\appdata\\local\\programs\\python\\python38\\lib\\site-packages (from requests[socks]->snscrape) (1.26.10)\n",
      "Collecting PySocks!=1.5.7,>=1.5.6\n",
      "  Downloading PySocks-1.7.1-py3-none-any.whl (16 kB)\n",
      "Installing collected packages: soupsieve, PySocks, lxml, beautifulsoup4, snscrape\n",
      "Successfully installed PySocks-1.7.1 beautifulsoup4-4.12.2 lxml-4.9.2 snscrape-0.7.0.20230622 soupsieve-2.4.1\n",
      "\n",
      "[notice] A new release of pip available: 22.1.2 -> 23.1.2\n",
      "[notice] To update, run: python.exe -m pip install --upgrade pip\n"
     ]
    }
   ],
   "source": [
    "!pip install snscrape\n",
    "\n"
   ]
  },
  {
   "cell_type": "code",
   "execution_count": 47,
   "id": "58893e9b",
   "metadata": {},
   "outputs": [],
   "source": [
    "user_hashtag = '#motog13' "
   ]
  },
  {
   "cell_type": "code",
   "execution_count": 7,
   "id": "cb182936",
   "metadata": {},
   "outputs": [],
   "source": [
    "import snscrape.modules.twitter as sntwitter\n",
    "import tweepy as tw\n",
    "import pandas as pd\n",
    "import numpy as np\n",
    "from matplotlib import pyplot as plt"
   ]
  },
  {
   "cell_type": "code",
   "execution_count": 48,
   "id": "14a44d3f",
   "metadata": {},
   "outputs": [
    {
     "name": "stderr",
     "output_type": "stream",
     "text": [
      "<ipython-input-48-0f8d5dc91a90>:9: DeprecatedFeatureWarning: content is deprecated, use rawContent instead\n",
      "  tweets.append([tweet.date, tweet.user.username, tweet.content])\n",
      "Skipping unrecognised entry ID: 'promoted-tweet-1669412895170629634-3e2f76317045f94f'\n",
      "Skipping unrecognised entry ID: 'promoted-tweet-1664542366726799360-3e2f8c772940cddb'\n",
      "Skipping unrecognised entry ID: 'promoted-tweet-1669412895170629634-3e2f486f26d9213f'\n",
      "Skipping unrecognised entry ID: 'promoted-tweet-1672294611367149590-3e2fe8ebdf252939'\n",
      "Skipping unrecognised entry ID: 'promoted-tweet-1669412895170629634-3e2f20a896cd0d1b'\n",
      "Skipping unrecognised entry ID: 'promoted-tweet-1672294611367149590-3e2fd729fcc38a46'\n",
      "Skipping unrecognised entry ID: 'promoted-tweet-1669412895170629634-3e2f8b306f37d1b9'\n",
      "Skipping unrecognised entry ID: 'promoted-tweet-1592723130035757057-3e2f54aa51f6b8e4'\n",
      "Skipping unrecognised entry ID: 'promoted-tweet-1669412895170629634-3e2fe59c8e05e568'\n",
      "Skipping unrecognised entry ID: 'promoted-tweet-1672294611367149590-3e2f71087a27a313'\n",
      "Skipping unrecognised entry ID: 'promoted-tweet-1669412895170629634-3e2f60aa2245dbb7'\n",
      "Skipping unrecognised entry ID: 'promoted-tweet-1672294611367149590-3e2fd9693a6ebfb0'\n",
      "Skipping unrecognised entry ID: 'promoted-tweet-1669412895170629634-3e2fed36127a56d9'\n",
      "Skipping unrecognised entry ID: 'promoted-tweet-1672294611367149590-3e2f43c3dbdeb4b5'\n",
      "Skipping unrecognised entry ID: 'promoted-tweet-1669412895170629634-3e2f234fd4fd0626'\n",
      "Skipping unrecognised entry ID: 'promoted-tweet-1672294611367149590-3e2f269143eda325'\n",
      "Skipping unrecognised entry ID: 'promoted-tweet-1669412895170629634-3e2f176b0962f589'\n",
      "Skipping unrecognised entry ID: 'promoted-tweet-1669412895170629634-3e2f4084b7ca4a6e'\n",
      "Skipping unrecognised entry ID: 'promoted-tweet-1669412895170629634-3e2f2137442f86b9'\n",
      "Skipping unrecognised entry ID: 'promoted-tweet-1672294611367149590-3e2fc2bbda8f023f'\n",
      "Skipping unrecognised entry ID: 'promoted-tweet-1669412895170629634-3e2feaba399569bf'\n",
      "Skipping unrecognised entry ID: 'promoted-tweet-1672294611367149590-3e2ff321adf976d2'\n",
      "Skipping unrecognised entry ID: 'promoted-tweet-1669412895170629634-3e2feb6d5c5b1227'\n",
      "Skipping unrecognised entry ID: 'promoted-tweet-1669412895170629634-3e2f3a806b243798'\n",
      "Skipping unrecognised entry ID: 'promoted-tweet-1579044066003914752-3e2fbd9efe50923a'\n",
      "Skipping unrecognised entry ID: 'promoted-tweet-1669412895170629634-3e2f6fa261348e18'\n",
      "Skipping unrecognised entry ID: 'promoted-tweet-1672294611367149590-3e2ff38c1a0c2107'\n",
      "Skipping unrecognised entry ID: 'promoted-tweet-1669412895170629634-3e2ff13e6224927d'\n",
      "Skipping unrecognised entry ID: 'promoted-tweet-1672294611367149590-3e2f1febc84d061f'\n",
      "Skipping unrecognised entry ID: 'promoted-tweet-1669412895170629634-3e2f95415451ea11'\n",
      "Skipping unrecognised entry ID: 'promoted-tweet-1669412895170629634-3e2f5262b77460ce'\n",
      "Skipping unrecognised entry ID: 'promoted-tweet-1669412895170629634-3e2fc4913fa52cfc'\n",
      "Skipping unrecognised entry ID: 'promoted-tweet-1669412895170629634-3e2f821a48c9eb4a'\n",
      "Skipping unrecognised entry ID: 'promoted-tweet-1672294611367149590-3e2fbf35e1416288'\n",
      "Skipping unrecognised entry ID: 'promoted-tweet-1671374886608961536-3e2f9682e838ac17'\n",
      "Skipping unrecognised entry ID: 'promoted-tweet-1669412895170629634-3e2f6a5e8584c89e'\n",
      "Skipping unrecognised entry ID: 'promoted-tweet-1672294611367149590-3e2fa768dd403629'\n",
      "Skipping unrecognised entry ID: 'promoted-tweet-1669412895170629634-3e2f811c31c6a394'\n",
      "Skipping unrecognised entry ID: 'promoted-tweet-1669412895170629634-3e2f56fdc932cd05'\n",
      "Skipping unrecognised entry ID: 'promoted-tweet-1672294611367149590-3e2f45499ec43b81'\n",
      "Skipping unrecognised entry ID: 'promoted-tweet-1669412895170629634-3e2f29c0361fde1c'\n",
      "Skipping unrecognised entry ID: 'promoted-tweet-1672294611367149590-3e2f2436a8147246'\n",
      "Skipping unrecognised entry ID: 'promoted-tweet-1669412895170629634-3e2fd59bca55bcaa'\n",
      "Skipping unrecognised entry ID: 'promoted-tweet-1669412895170629634-3e2f5e1426be8ab4'\n",
      "Skipping unrecognised entry ID: 'promoted-tweet-1669412895170629634-3e2f0992746d2c4f'\n",
      "Skipping unrecognised entry ID: 'promoted-tweet-1592723130035757057-3e2f9e6d31753311'\n",
      "Skipping unrecognised entry ID: 'promoted-tweet-1669412895170629634-3e2f814edbd8850a'\n",
      "Skipping unrecognised entry ID: 'promoted-tweet-1669412895170629634-3e2f3d4d3cb423b6'\n",
      "Skipping unrecognised entry ID: 'promoted-tweet-1672294611367149590-3e2fb31ab489ded9'\n",
      "Skipping unrecognised entry ID: 'promoted-tweet-1669412895170629634-3e2f3a82507991e5'\n",
      "Skipping unrecognised entry ID: 'promoted-tweet-1672294611367149590-3e2f012553adeb2e'\n",
      "Skipping unrecognised entry ID: 'promoted-tweet-1669412895170629634-3e2f6ca06e8a2afa'\n",
      "Skipping unrecognised entry ID: 'promoted-tweet-1669412895170629634-3e2f025e2b144643'\n",
      "Skipping unrecognised entry ID: 'promoted-tweet-1672294611367149590-3e2f201a1cdbf489'\n",
      "Skipping unrecognised entry ID: 'promoted-tweet-1669412895170629634-3e2fbe9c1d18af2b'\n",
      "Skipping unrecognised entry ID: 'promoted-tweet-1669412895170629634-3e2f5044cec44346'\n",
      "Skipping unrecognised entry ID: 'promoted-tweet-1673599030843310082-3e2f94746d87744f'\n",
      "Skipping unrecognised entry ID: 'promoted-tweet-1664542366726799360-3e2fdb68ec1abf39'\n",
      "Skipping unrecognised entry ID: 'promoted-tweet-1669412895170629634-3e2fa58da4518f87'\n",
      "Skipping unrecognised entry ID: 'promoted-tweet-1669412895170629634-3e2f7fbf686fa2cc'\n",
      "Skipping unrecognised entry ID: 'promoted-tweet-1672294611367149590-3e2fe23a407427e3'\n",
      "Skipping unrecognised entry ID: 'promoted-tweet-1669412895170629634-3e2fe338ada3c757'\n",
      "Skipping unrecognised entry ID: 'promoted-tweet-1669412895170629634-3e2f907efd9187f4'\n",
      "Skipping unrecognised entry ID: 'promoted-tweet-1664542366726799360-3e2f6fb3799b4ed2'\n",
      "Skipping unrecognised entry ID: 'promoted-tweet-1592723130035757057-3e2f4a678694cec0'\n",
      "Skipping unrecognised entry ID: 'promoted-tweet-1669412895170629634-3e2fff9cc4558e55'\n",
      "Skipping unrecognised entry ID: 'promoted-tweet-1672294611367149590-3e2fdfdc3e5a8bbc'\n",
      "Skipping unrecognised entry ID: 'promoted-tweet-1659962415780601856-3e2fe75ee83ba272'\n",
      "Skipping unrecognised entry ID: 'promoted-tweet-1672294611367149590-3e2f4f2552e81f4d'\n",
      "Skipping unrecognised entry ID: 'promoted-tweet-1669412895170629634-3e2fc070a025cd58'\n",
      "Skipping unrecognised entry ID: 'promoted-tweet-1664542366726799360-3e2f5538522c7b61'\n",
      "Skipping unrecognised entry ID: 'promoted-tweet-1669412895170629634-3e2f5bbd06a81b40'\n",
      "Skipping unrecognised entry ID: 'promoted-tweet-1664542366726799360-3e2fa42eb63359ca'\n",
      "Skipping unrecognised entry ID: 'promoted-tweet-1669412895170629634-3e2fa614145cad4d'\n",
      "Skipping unrecognised entry ID: 'promoted-tweet-1672294611367149590-3e2ff791cbe9dad9'\n",
      "Skipping unrecognised entry ID: 'promoted-tweet-1669412895170629634-3e2fa78fb1fb81be'\n",
      "Unavailable user in card on tweet 1641404528145707009\n",
      "Unavailable user in card on tweet 1641404528145707009\n",
      "User 160497158 not found in user refs in card on tweet 1641404528145707009\n",
      "User 160497158 not found in user refs in card on tweet 1641404528145707009\n",
      "Skipping unrecognised entry ID: 'promoted-tweet-1672294611367149590-3e2f01302261ccf4'\n",
      "Skipping unrecognised entry ID: 'promoted-tweet-1669412895170629634-3e2f79b1e585a2f3'\n",
      "Skipping unrecognised entry ID: 'promoted-tweet-1672294611367149590-3e2fbaf21d39c670'\n",
      "Skipping unrecognised entry ID: 'promoted-tweet-1669412895170629634-3e2f9b93044dec15'\n",
      "Skipping unrecognised entry ID: 'promoted-tweet-1669412895170629634-3e2fa701aa07e184'\n",
      "Skipping unrecognised entry ID: 'promoted-tweet-1669412895170629634-3e2f88c0a46afedd'\n",
      "Skipping unrecognised entry ID: 'promoted-tweet-1669412895170629634-3e2f8826cda6722c'\n",
      "Skipping unrecognised entry ID: 'promoted-tweet-1673599030843310082-3e2f1ce2da0829bc'\n",
      "Skipping unrecognised entry ID: 'promoted-tweet-1592723130035757057-3e2fe87b9a5f4cb3'\n",
      "Skipping unrecognised entry ID: 'promoted-tweet-1669412895170629634-3e2f801c6ad98de0'\n",
      "Skipping unrecognised entry ID: 'promoted-tweet-1672294611367149590-3e2fa3d9f7aba001'\n",
      "Skipping unrecognised entry ID: 'promoted-tweet-1669412895170629634-3e2fb9599bae0907'\n",
      "Skipping unrecognised entry ID: 'promoted-tweet-1592723130035757057-3e2fe2db93e25de0'\n",
      "Skipping unrecognised entry ID: 'promoted-tweet-1673217025294958596-3e2f347451fbbcf6'\n",
      "Skipping unrecognised entry ID: 'promoted-tweet-1672294611367149590-3e2fe410be630440'\n"
     ]
    },
    {
     "name": "stderr",
     "output_type": "stream",
     "text": [
      "Skipping unrecognised entry ID: 'promoted-tweet-1669412895170629634-3e2f8527b9cb6716'\n",
      "Skipping unrecognised entry ID: 'promoted-tweet-1672294611367149590-3e2f9b391ee80915'\n",
      "Skipping unrecognised entry ID: 'promoted-tweet-1669412895170629634-3e2f0f8ebe0f9b21'\n",
      "Skipping unrecognised entry ID: 'promoted-tweet-1672294611367149590-3e2fda410a44a5c3'\n",
      "Skipping unrecognised entry ID: 'promoted-tweet-1671767475279495168-3e2fb929252b3516'\n",
      "Skipping unrecognised entry ID: 'promoted-tweet-1669412895170629634-3e2fd297922cb4e9'\n",
      "Skipping unrecognised entry ID: 'promoted-tweet-1672294611367149590-3e2f7f642f64c69d'\n",
      "Skipping unrecognised entry ID: 'promoted-tweet-1592723130035757057-3e2fd5948d2dc1a6'\n",
      "Skipping unrecognised entry ID: 'promoted-tweet-1669412895170629634-3e2f5ae271df791c'\n",
      "Skipping unrecognised entry ID: 'promoted-tweet-1672294611367149590-3e2f4fdbdc029e4b'\n",
      "Skipping unrecognised entry ID: 'promoted-tweet-1664542366726799360-3e2f106192910028'\n",
      "Skipping unrecognised entry ID: 'promoted-tweet-1669412895170629634-3e2f8ae50460346a'\n",
      "Skipping unrecognised entry ID: 'promoted-tweet-1672294611367149590-3e2facb70f147c30'\n",
      "Stopping after 20 empty pages\n"
     ]
    }
   ],
   "source": [
    "tweets = []\n",
    "limits = 500\n",
    "\n",
    "for tweet in sntwitter.TwitterSearchScraper(user_hashtag).get_items():\n",
    "    if len(tweets) == limits:\n",
    "        break\n",
    "    else:\n",
    "        if tweet.lang == 'en':\n",
    "            tweets.append([tweet.date, tweet.user.username, tweet.content])\n",
    "\n",
    "        \n",
    "            \n"
   ]
  },
  {
   "cell_type": "code",
   "execution_count": 49,
   "id": "1be94963",
   "metadata": {},
   "outputs": [],
   "source": [
    "df = pd.DataFrame(tweets, columns=['Date', 'User', 'Tweet'])"
   ]
  },
  {
   "cell_type": "code",
   "execution_count": 50,
   "id": "b36ff491",
   "metadata": {},
   "outputs": [
    {
     "data": {
      "text/html": [
       "<div>\n",
       "<style scoped>\n",
       "    .dataframe tbody tr th:only-of-type {\n",
       "        vertical-align: middle;\n",
       "    }\n",
       "\n",
       "    .dataframe tbody tr th {\n",
       "        vertical-align: top;\n",
       "    }\n",
       "\n",
       "    .dataframe thead th {\n",
       "        text-align: right;\n",
       "    }\n",
       "</style>\n",
       "<table border=\"1\" class=\"dataframe\">\n",
       "  <thead>\n",
       "    <tr style=\"text-align: right;\">\n",
       "      <th></th>\n",
       "      <th>Date</th>\n",
       "      <th>User</th>\n",
       "      <th>Tweet</th>\n",
       "    </tr>\n",
       "  </thead>\n",
       "  <tbody>\n",
       "    <tr>\n",
       "      <th>0</th>\n",
       "      <td>2023-06-27 08:39:11+00:00</td>\n",
       "      <td>MrinRoy4</td>\n",
       "      <td>#motorola #motog13 #motorolasupport \\nI bought...</td>\n",
       "    </tr>\n",
       "    <tr>\n",
       "      <th>1</th>\n",
       "      <td>2023-06-08 13:48:17+00:00</td>\n",
       "      <td>ImrealAsad</td>\n",
       "      <td>@motorolaindia Your latest phone #MotoG13 is h...</td>\n",
       "    </tr>\n",
       "    <tr>\n",
       "      <th>2</th>\n",
       "      <td>2023-06-03 09:06:49+00:00</td>\n",
       "      <td>termt_5</td>\n",
       "      <td>NOW, I agreed to buy new smartphone📱, I know t...</td>\n",
       "    </tr>\n",
       "    <tr>\n",
       "      <th>3</th>\n",
       "      <td>2023-06-01 14:55:12+00:00</td>\n",
       "      <td>GufranA17531197</td>\n",
       "      <td>Hey @Flipkart, I'm extremely disappointed with...</td>\n",
       "    </tr>\n",
       "    <tr>\n",
       "      <th>4</th>\n",
       "      <td>2023-05-31 09:52:02+00:00</td>\n",
       "      <td>RXtriya</td>\n",
       "      <td>@motorolaindia Not satisfied with the moto g13...</td>\n",
       "    </tr>\n",
       "    <tr>\n",
       "      <th>...</th>\n",
       "      <td>...</td>\n",
       "      <td>...</td>\n",
       "      <td>...</td>\n",
       "    </tr>\n",
       "    <tr>\n",
       "      <th>409</th>\n",
       "      <td>2023-03-29 18:09:58+00:00</td>\n",
       "      <td>NYerradla</td>\n",
       "      <td>50MP Quad Pixel Camera \\n\\n#HatkeExperience #m...</td>\n",
       "    </tr>\n",
       "    <tr>\n",
       "      <th>410</th>\n",
       "      <td>2023-03-29 18:02:54+00:00</td>\n",
       "      <td>Seemajain515</td>\n",
       "      <td>@motorolaindia 90Hz Punch Hole Display \\n\\n#Ha...</td>\n",
       "    </tr>\n",
       "    <tr>\n",
       "      <th>411</th>\n",
       "      <td>2023-03-29 17:43:53+00:00</td>\n",
       "      <td>tech_flames</td>\n",
       "      <td>Moto G13 4G launched in India 🇮🇳\\n• 6.5 inch H...</td>\n",
       "    </tr>\n",
       "    <tr>\n",
       "      <th>412</th>\n",
       "      <td>2023-03-29 17:22:30+00:00</td>\n",
       "      <td>MyMobileMag</td>\n",
       "      <td>Moto Edge+ 2023 Specifications Revealed by Goo...</td>\n",
       "    </tr>\n",
       "    <tr>\n",
       "      <th>413</th>\n",
       "      <td>2023-03-29 17:18:17+00:00</td>\n",
       "      <td>dellyranksindia</td>\n",
       "      <td>Moto G13 debuts in India with 5,000mAh battery...</td>\n",
       "    </tr>\n",
       "  </tbody>\n",
       "</table>\n",
       "<p>414 rows × 3 columns</p>\n",
       "</div>"
      ],
      "text/plain": [
       "                         Date             User  \\\n",
       "0   2023-06-27 08:39:11+00:00         MrinRoy4   \n",
       "1   2023-06-08 13:48:17+00:00       ImrealAsad   \n",
       "2   2023-06-03 09:06:49+00:00          termt_5   \n",
       "3   2023-06-01 14:55:12+00:00  GufranA17531197   \n",
       "4   2023-05-31 09:52:02+00:00          RXtriya   \n",
       "..                        ...              ...   \n",
       "409 2023-03-29 18:09:58+00:00        NYerradla   \n",
       "410 2023-03-29 18:02:54+00:00     Seemajain515   \n",
       "411 2023-03-29 17:43:53+00:00      tech_flames   \n",
       "412 2023-03-29 17:22:30+00:00      MyMobileMag   \n",
       "413 2023-03-29 17:18:17+00:00  dellyranksindia   \n",
       "\n",
       "                                                 Tweet  \n",
       "0    #motorola #motog13 #motorolasupport \\nI bought...  \n",
       "1    @motorolaindia Your latest phone #MotoG13 is h...  \n",
       "2    NOW, I agreed to buy new smartphone📱, I know t...  \n",
       "3    Hey @Flipkart, I'm extremely disappointed with...  \n",
       "4    @motorolaindia Not satisfied with the moto g13...  \n",
       "..                                                 ...  \n",
       "409  50MP Quad Pixel Camera \\n\\n#HatkeExperience #m...  \n",
       "410  @motorolaindia 90Hz Punch Hole Display \\n\\n#Ha...  \n",
       "411  Moto G13 4G launched in India 🇮🇳\\n• 6.5 inch H...  \n",
       "412  Moto Edge+ 2023 Specifications Revealed by Goo...  \n",
       "413  Moto G13 debuts in India with 5,000mAh battery...  \n",
       "\n",
       "[414 rows x 3 columns]"
      ]
     },
     "execution_count": 50,
     "metadata": {},
     "output_type": "execute_result"
    }
   ],
   "source": [
    "df\n"
   ]
  },
  {
   "cell_type": "code",
   "execution_count": 35,
   "id": "98c7c26b",
   "metadata": {},
   "outputs": [],
   "source": [
    "from transformers import AutoTokenizer, AutoModelForSequenceClassification\n",
    "import torch"
   ]
  },
  {
   "cell_type": "code",
   "execution_count": 36,
   "id": "7b73f377",
   "metadata": {},
   "outputs": [
    {
     "data": {
      "application/vnd.jupyter.widget-view+json": {
       "model_id": "adc6ec5fd2614b1eb9911e1e61fd83b4",
       "version_major": 2,
       "version_minor": 0
      },
      "text/plain": [
       "Downloading (…)okenizer_config.json:   0%|          | 0.00/39.0 [00:00<?, ?B/s]"
      ]
     },
     "metadata": {},
     "output_type": "display_data"
    },
    {
     "name": "stderr",
     "output_type": "stream",
     "text": [
      "c:\\users\\dell\\appdata\\local\\programs\\python\\python38\\lib\\site-packages\\huggingface_hub\\file_download.py:133: UserWarning: `huggingface_hub` cache-system uses symlinks by default to efficiently store duplicated files but your machine does not support them in C:\\Users\\DELL\\.cache\\huggingface\\hub. Caching files will still work but in a degraded version that might require more space on your disk. This warning can be disabled by setting the `HF_HUB_DISABLE_SYMLINKS_WARNING` environment variable. For more details, see https://huggingface.co/docs/huggingface_hub/how-to-cache#limitations.\n",
      "To support symlinks on Windows, you either need to activate Developer Mode or to run Python as an administrator. In order to see activate developer mode, see this article: https://docs.microsoft.com/en-us/windows/apps/get-started/enable-your-device-for-development\n",
      "  warnings.warn(message)\n"
     ]
    },
    {
     "data": {
      "application/vnd.jupyter.widget-view+json": {
       "model_id": "c96d69d27611453198aa467f3e18192b",
       "version_major": 2,
       "version_minor": 0
      },
      "text/plain": [
       "Downloading (…)lve/main/config.json:   0%|          | 0.00/953 [00:00<?, ?B/s]"
      ]
     },
     "metadata": {},
     "output_type": "display_data"
    },
    {
     "data": {
      "application/vnd.jupyter.widget-view+json": {
       "model_id": "1c727b8f77834bd0a5c704f1932994a5",
       "version_major": 2,
       "version_minor": 0
      },
      "text/plain": [
       "Downloading (…)solve/main/vocab.txt:   0%|          | 0.00/872k [00:00<?, ?B/s]"
      ]
     },
     "metadata": {},
     "output_type": "display_data"
    },
    {
     "data": {
      "application/vnd.jupyter.widget-view+json": {
       "model_id": "2c5d0292ccf841d286b7efca683bd77f",
       "version_major": 2,
       "version_minor": 0
      },
      "text/plain": [
       "Downloading (…)cial_tokens_map.json:   0%|          | 0.00/112 [00:00<?, ?B/s]"
      ]
     },
     "metadata": {},
     "output_type": "display_data"
    },
    {
     "data": {
      "application/vnd.jupyter.widget-view+json": {
       "model_id": "2aae0e2296e74bebbe06b2676fc0c08e",
       "version_major": 2,
       "version_minor": 0
      },
      "text/plain": [
       "Downloading pytorch_model.bin:   0%|          | 0.00/669M [00:00<?, ?B/s]"
      ]
     },
     "metadata": {},
     "output_type": "display_data"
    }
   ],
   "source": [
    "tokenizer = AutoTokenizer.from_pretrained('nlptown/bert-base-multilingual-uncased-sentiment')\n",
    "\n",
    "model = AutoModelForSequenceClassification.from_pretrained('nlptown/bert-base-multilingual-uncased-sentiment')"
   ]
  },
  {
   "cell_type": "code",
   "execution_count": 39,
   "id": "86d226c9",
   "metadata": {},
   "outputs": [],
   "source": [
    "def sentiment_score(review):\n",
    "    tokens = tokenizer.encode(review, return_tensors ='pt')\n",
    "    result = model(tokens)\n",
    "    return int(torch.argmax(result.logits))+1"
   ]
  },
  {
   "cell_type": "code",
   "execution_count": 40,
   "id": "12bcd65e",
   "metadata": {},
   "outputs": [
    {
     "data": {
      "text/plain": [
       "5"
      ]
     },
     "execution_count": 40,
     "metadata": {},
     "output_type": "execute_result"
    }
   ],
   "source": [
    "sentiment_score(df['Tweet'].iloc[0])"
   ]
  },
  {
   "cell_type": "code",
   "execution_count": 51,
   "id": "c3ac7da1",
   "metadata": {},
   "outputs": [],
   "source": [
    "df['sentiment'] = df['Tweet'].apply(lambda x : sentiment_score(x[:500]))"
   ]
  },
  {
   "cell_type": "code",
   "execution_count": 52,
   "id": "edfdd0b7",
   "metadata": {},
   "outputs": [
    {
     "data": {
      "text/plain": [
       "0      1\n",
       "1      1\n",
       "2      1\n",
       "3      1\n",
       "4      1\n",
       "      ..\n",
       "409    5\n",
       "410    1\n",
       "411    5\n",
       "412    4\n",
       "413    5\n",
       "Name: sentiment, Length: 414, dtype: int64"
      ]
     },
     "execution_count": 52,
     "metadata": {},
     "output_type": "execute_result"
    }
   ],
   "source": [
    "df['sentiment']"
   ]
  },
  {
   "cell_type": "code",
   "execution_count": 54,
   "id": "3c5812cb",
   "metadata": {},
   "outputs": [
    {
     "data": {
      "text/plain": [
       "Date                                 2023-06-08 13:48:17+00:00\n",
       "User                                                ImrealAsad\n",
       "Tweet        @motorolaindia Your latest phone #MotoG13 is h...\n",
       "sentiment                                                    1\n",
       "Name: 1, dtype: object"
      ]
     },
     "execution_count": 54,
     "metadata": {},
     "output_type": "execute_result"
    }
   ],
   "source": [
    "df.iloc[1]"
   ]
  },
  {
   "cell_type": "code",
   "execution_count": 46,
   "id": "13dd41ef",
   "metadata": {},
   "outputs": [
    {
     "data": {
      "text/html": [
       "<div>\n",
       "<style scoped>\n",
       "    .dataframe tbody tr th:only-of-type {\n",
       "        vertical-align: middle;\n",
       "    }\n",
       "\n",
       "    .dataframe tbody tr th {\n",
       "        vertical-align: top;\n",
       "    }\n",
       "\n",
       "    .dataframe thead th {\n",
       "        text-align: right;\n",
       "    }\n",
       "</style>\n",
       "<table border=\"1\" class=\"dataframe\">\n",
       "  <thead>\n",
       "    <tr style=\"text-align: right;\">\n",
       "      <th></th>\n",
       "      <th>Date</th>\n",
       "      <th>User</th>\n",
       "      <th>Tweet</th>\n",
       "      <th>sentiment</th>\n",
       "    </tr>\n",
       "  </thead>\n",
       "  <tbody>\n",
       "    <tr>\n",
       "      <th>0</th>\n",
       "      <td>2023-06-27 09:43:43+00:00</td>\n",
       "      <td>NavinSinghKhadk</td>\n",
       "      <td>Critical minerals, #ClimateCrisis &amp;amp; geopol...</td>\n",
       "      <td>5</td>\n",
       "    </tr>\n",
       "    <tr>\n",
       "      <th>1</th>\n",
       "      <td>2023-06-27 09:43:38+00:00</td>\n",
       "      <td>aharis1234</td>\n",
       "      <td>#Pakistan expresses concern over US-India join...</td>\n",
       "      <td>1</td>\n",
       "    </tr>\n",
       "    <tr>\n",
       "      <th>2</th>\n",
       "      <td>2023-06-27 09:43:22+00:00</td>\n",
       "      <td>BsdtIn</td>\n",
       "      <td>A lecture on \"Ozone therapy\" was organised on ...</td>\n",
       "      <td>4</td>\n",
       "    </tr>\n",
       "    <tr>\n",
       "      <th>3</th>\n",
       "      <td>2023-06-27 09:42:55+00:00</td>\n",
       "      <td>team_cursor</td>\n",
       "      <td>Birth Anniversary of Bankim Chandra Chatterjee...</td>\n",
       "      <td>5</td>\n",
       "    </tr>\n",
       "    <tr>\n",
       "      <th>4</th>\n",
       "      <td>2023-06-27 09:42:48+00:00</td>\n",
       "      <td>moneycontrolcom</td>\n",
       "      <td>#Maharashtra has the most public #EV #Charging...</td>\n",
       "      <td>5</td>\n",
       "    </tr>\n",
       "    <tr>\n",
       "      <th>...</th>\n",
       "      <td>...</td>\n",
       "      <td>...</td>\n",
       "      <td>...</td>\n",
       "      <td>...</td>\n",
       "    </tr>\n",
       "    <tr>\n",
       "      <th>495</th>\n",
       "      <td>2023-06-27 07:41:23+00:00</td>\n",
       "      <td>AggconEquipment</td>\n",
       "      <td>Tree of Friendship and that AGGCON always care...</td>\n",
       "      <td>5</td>\n",
       "    </tr>\n",
       "    <tr>\n",
       "      <th>496</th>\n",
       "      <td>2023-06-27 07:41:10+00:00</td>\n",
       "      <td>cenekraft</td>\n",
       "      <td>#ICCWorldCup2023 \\n#INDIA fixture..\\n\\n#India ...</td>\n",
       "      <td>5</td>\n",
       "    </tr>\n",
       "    <tr>\n",
       "      <th>497</th>\n",
       "      <td>2023-06-27 07:40:49+00:00</td>\n",
       "      <td>republic_sports</td>\n",
       "      <td>Take a look: https://t.co/I7oLitnJ81\\n\\n#ICCWo...</td>\n",
       "      <td>3</td>\n",
       "    </tr>\n",
       "    <tr>\n",
       "      <th>498</th>\n",
       "      <td>2023-06-27 07:40:48+00:00</td>\n",
       "      <td>scoresnow_in</td>\n",
       "      <td>One of The Most Anticipated Matches of The Yea...</td>\n",
       "      <td>5</td>\n",
       "    </tr>\n",
       "    <tr>\n",
       "      <th>499</th>\n",
       "      <td>2023-06-27 07:40:42+00:00</td>\n",
       "      <td>INDIACSR</td>\n",
       "      <td>FUEL Business School Launched in Pune\\n\\n@fuel...</td>\n",
       "      <td>5</td>\n",
       "    </tr>\n",
       "  </tbody>\n",
       "</table>\n",
       "<p>500 rows × 4 columns</p>\n",
       "</div>"
      ],
      "text/plain": [
       "                         Date             User  \\\n",
       "0   2023-06-27 09:43:43+00:00  NavinSinghKhadk   \n",
       "1   2023-06-27 09:43:38+00:00       aharis1234   \n",
       "2   2023-06-27 09:43:22+00:00           BsdtIn   \n",
       "3   2023-06-27 09:42:55+00:00      team_cursor   \n",
       "4   2023-06-27 09:42:48+00:00  moneycontrolcom   \n",
       "..                        ...              ...   \n",
       "495 2023-06-27 07:41:23+00:00  AggconEquipment   \n",
       "496 2023-06-27 07:41:10+00:00        cenekraft   \n",
       "497 2023-06-27 07:40:49+00:00  republic_sports   \n",
       "498 2023-06-27 07:40:48+00:00     scoresnow_in   \n",
       "499 2023-06-27 07:40:42+00:00         INDIACSR   \n",
       "\n",
       "                                                 Tweet  sentiment  \n",
       "0    Critical minerals, #ClimateCrisis &amp; geopol...          5  \n",
       "1    #Pakistan expresses concern over US-India join...          1  \n",
       "2    A lecture on \"Ozone therapy\" was organised on ...          4  \n",
       "3    Birth Anniversary of Bankim Chandra Chatterjee...          5  \n",
       "4    #Maharashtra has the most public #EV #Charging...          5  \n",
       "..                                                 ...        ...  \n",
       "495  Tree of Friendship and that AGGCON always care...          5  \n",
       "496  #ICCWorldCup2023 \\n#INDIA fixture..\\n\\n#India ...          5  \n",
       "497  Take a look: https://t.co/I7oLitnJ81\\n\\n#ICCWo...          3  \n",
       "498  One of The Most Anticipated Matches of The Yea...          5  \n",
       "499  FUEL Business School Launched in Pune\\n\\n@fuel...          5  \n",
       "\n",
       "[500 rows x 4 columns]"
      ]
     },
     "execution_count": 46,
     "metadata": {},
     "output_type": "execute_result"
    }
   ],
   "source": [
    "df"
   ]
  },
  {
   "cell_type": "code",
   "execution_count": 64,
   "id": "e90a1068",
   "metadata": {},
   "outputs": [
    {
     "data": {
      "text/plain": [
       "array([1, 5, 4, 3, 2], dtype=int64)"
      ]
     },
     "execution_count": 64,
     "metadata": {},
     "output_type": "execute_result"
    }
   ],
   "source": [
    "unique = df['sentiment'].unique()\n",
    "unique"
   ]
  },
  {
   "cell_type": "markdown",
   "id": "812a9edd",
   "metadata": {},
   "source": [
    "value_array = []"
   ]
  },
  {
   "cell_type": "code",
   "execution_count": 87,
   "id": "4c981930",
   "metadata": {},
   "outputs": [],
   "source": [
    "value_array = []"
   ]
  },
  {
   "cell_type": "code",
   "execution_count": 66,
   "id": "0b36e1d2",
   "metadata": {},
   "outputs": [],
   "source": []
  },
  {
   "cell_type": "code",
   "execution_count": 88,
   "id": "817f4bcd",
   "metadata": {},
   "outputs": [],
   "source": [
    "for value in unique:\n",
    "    c_value = df['Date'][df['sentiment'] == value].count()\n",
    "    value_array.append(c_value)"
   ]
  },
  {
   "cell_type": "code",
   "execution_count": 89,
   "id": "5b96d572",
   "metadata": {},
   "outputs": [
    {
     "data": {
      "text/plain": [
       "[52, 325, 30, 5, 2]"
      ]
     },
     "execution_count": 89,
     "metadata": {},
     "output_type": "execute_result"
    }
   ],
   "source": [
    "value_array"
   ]
  },
  {
   "cell_type": "code",
   "execution_count": 92,
   "id": "1e9d317f",
   "metadata": {},
   "outputs": [
    {
     "data": {
      "image/png": "[encoded data removed]",
      "text/plain": [
       "<Figure size 432x288 with 1 Axes>"
      ]
     },
     "metadata": {
      "needs_background": "light"
     },
     "output_type": "display_data"
    }
   ],
   "source": [
    "x= unique\n",
    "y= value_array\n",
    "plt.bar(x, y, color ='maroon',\n",
    "        width = 0.4)\n",
    "plt.show()"
   ]
  },
  {
   "cell_type": "code",
   "execution_count": null,
   "id": "3918d4c3",
   "metadata": {},
   "outputs": [],
   "source": []
  }
 ],
 "metadata": {
  "kernelspec": {
   "display_name": "Python 3",
   "language": "python",
   "name": "python3"
  },
  "language_info": {
   "codemirror_mode": {
    "name": "ipython",
    "version": 3
   },
   "file_extension": ".py",
   "mimetype": "text/x-python",
   "name": "python",
   "nbconvert_exporter": "python",
   "pygments_lexer": "ipython3",
   "version": "3.8.5"
  }
 },
 "nbformat": 4,
 "nbformat_minor": 5
}
